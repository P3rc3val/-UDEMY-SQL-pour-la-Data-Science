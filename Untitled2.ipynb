{
 "cells": [
  {
   "cell_type": "code",
   "execution_count": 1,
   "metadata": {},
   "outputs": [],
   "source": [
    "import sqlite3"
   ]
  },
  {
   "cell_type": "code",
   "execution_count": 3,
   "metadata": {},
   "outputs": [
    {
     "name": "stdout",
     "output_type": "stream",
     "text": [
      "[(228,)]\n"
     ]
    }
   ],
   "source": [
    "connexion = sqlite3.connect('factbook.db')\n",
    "\n",
    "birth_rate_tuple = connexion.execute(\"SELECT COUNT(birth_rate) FROM facts;\").fetchall()\n",
    "print(birth_rate_tuple)"
   ]
  },
  {
   "cell_type": "code",
   "execution_count": 4,
   "metadata": {},
   "outputs": [
    {
     "name": "stdout",
     "output_type": "stream",
     "text": [
      "(228,)\n"
     ]
    }
   ],
   "source": [
    "birth_rate_count = birth_rate_tuple[0]\n",
    "print(birth_rate_count)"
   ]
  },
  {
   "cell_type": "code",
   "execution_count": 5,
   "metadata": {},
   "outputs": [
    {
     "name": "stdout",
     "output_type": "stream",
     "text": [
      "228\n"
     ]
    }
   ],
   "source": [
    "birth_rate_count = birth_rate_tuple[0][0]\n",
    "print(birth_rate_count)"
   ]
  },
  {
   "cell_type": "code",
   "execution_count": 8,
   "metadata": {},
   "outputs": [
    {
     "name": "stdout",
     "output_type": "stream",
     "text": [
      "45.45\n"
     ]
    }
   ],
   "source": [
    "birth_rate_max = connexion.execute(\"SELECT MAX(birth_rate) FROM facts ;\").fetchall()\n",
    "birth_rate_maxClean = birth_rate_max[0][0]\n",
    "print(birth_rate_maxClean)"
   ]
  },
  {
   "cell_type": "code",
   "execution_count": 9,
   "metadata": {},
   "outputs": [
    {
     "name": "stdout",
     "output_type": "stream",
     "text": [
      "0.0\n"
     ]
    }
   ],
   "source": [
    "population_growth_min = connexion.execute(\"SELECT MIN(population_growth) FROM facts;\").fetchall()\n",
    "population_growth_minClean = population_growth_min[0][0]\n",
    "print(population_growth_minClean)"
   ]
  },
  {
   "cell_type": "code",
   "execution_count": 11,
   "metadata": {},
   "outputs": [
    {
     "name": "stdout",
     "output_type": "stream",
     "text": [
      "14.89\n"
     ]
    }
   ],
   "source": [
    "death_rate_max = connexion.execute(\"SELECT MAX(death_rate) FROM facts;\").fetchall()\n",
    "death_rate_maxClean = death_rate_max[0][0]\n",
    "print(death_rate_maxClean)"
   ]
  },
  {
   "cell_type": "code",
   "execution_count": 12,
   "metadata": {},
   "outputs": [
    {
     "name": "stdout",
     "output_type": "stream",
     "text": [
      "19067.59259259259\n"
     ]
    }
   ],
   "source": [
    "import sqlite3\n",
    "connexion = sqlite3.connect('factbook.db')\n",
    "area_water_avg = connexion.execute(\"SELECT AVG(area_water) FROM facts;\").fetchall()\n",
    "area_water_avgClean = area_water_avg[0][0]\n",
    "print(area_water_avgClean)"
   ]
  },
  {
   "cell_type": "code",
   "execution_count": 13,
   "metadata": {},
   "outputs": [
    {
     "name": "stdout",
     "output_type": "stream",
     "text": [
      "128584834\n"
     ]
    }
   ],
   "source": [
    "import sqlite3\n",
    "connexion = sqlite3.connect('factbook.db')\n",
    "area_land_sum = connexion.execute(\"SELECT SUM(area_land) FROM facts;\").fetchall()\n",
    "area_land_sumClean = area_land_sum[0][0]\n",
    "print(area_land_sumClean)"
   ]
  },
  {
   "cell_type": "code",
   "execution_count": 14,
   "metadata": {},
   "outputs": [],
   "source": [
    "connexion.close()"
   ]
  },
  {
   "cell_type": "code",
   "execution_count": 18,
   "metadata": {},
   "outputs": [
    {
     "name": "stdout",
     "output_type": "stream",
     "text": [
      "[(62094928.32231405, 15026972654, 45.45)]\n",
      "62094928.32231405\n",
      "15026972654\n",
      "45.45\n"
     ]
    }
   ],
   "source": [
    "import sqlite3\n",
    "connexion = sqlite3.connect('factbook.db')\n",
    "\n",
    "facts_stats = connexion.execute(\"SELECT AVG(population), SUM(population), MAX(birth_rate) FROM facts;\").fetchall()\n",
    "\n",
    "print(facts_stats)\n",
    "\n",
    "pop_avg = facts_stats[0][0]\n",
    "pop_sum = facts_stats[0][1]\n",
    "birth_rate_max = facts_stats[0][2]\n",
    "\n",
    "print(pop_avg)\n",
    "print(pop_sum)\n",
    "print(birth_rate_max)\n",
    "connexion.close()"
   ]
  },
  {
   "cell_type": "code",
   "execution_count": 19,
   "metadata": {},
   "outputs": [
    {
     "name": "stdout",
     "output_type": "stream",
     "text": [
      "1.4572222222222226\n"
     ]
    }
   ],
   "source": [
    "connexion = sqlite3.connect('factbook.db')\n",
    "\n",
    "population_growth_avg = connexion.execute(\"SELECT AVG(population_growth) FROM facts WHERE population > 10000000;\").fetchall()\n",
    "population_growth_avgClean = population_growth_avg[0][0]\n",
    "print(population_growth_avgClean)\n",
    "\n",
    "connexion.close()"
   ]
  },
  {
   "cell_type": "code",
   "execution_count": null,
   "metadata": {},
   "outputs": [],
   "source": []
  }
 ],
 "metadata": {
  "kernelspec": {
   "display_name": "Python 3",
   "language": "python",
   "name": "python3"
  },
  "language_info": {
   "codemirror_mode": {
    "name": "ipython",
    "version": 3
   },
   "file_extension": ".py",
   "mimetype": "text/x-python",
   "name": "python",
   "nbconvert_exporter": "python",
   "pygments_lexer": "ipython3",
   "version": "3.7.3"
  }
 },
 "nbformat": 4,
 "nbformat_minor": 2
}
