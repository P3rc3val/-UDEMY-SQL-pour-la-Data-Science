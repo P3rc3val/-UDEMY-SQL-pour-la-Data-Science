{
 "cells": [
  {
   "cell_type": "code",
   "execution_count": 8,
   "metadata": {},
   "outputs": [
    {
     "name": "stdout",
     "output_type": "stream",
     "text": [
      "(2010, 'Black Swan')\n",
      "(2004, 'Closer')\n"
     ]
    }
   ],
   "source": [
    "import sqlite3\n",
    "connexion = sqlite3.connect('academy_awards.db')\n",
    "\n",
    "portman_query =\"SELECT ceremonies.year, nominations.movie FROM nominations INNER JOIN ceremonies ON ceremonies.id == nominations.ceremony_id WHERE nominations.nominee == 'Natalie Portman';\"\n",
    "\n",
    "portman_movies = connexion.execute(portman_query).fetchall()\n",
    "\n",
    "for p in portman_movies:\n",
    "    print(p)\n"
   ]
  },
  {
   "cell_type": "code",
   "execution_count": null,
   "metadata": {},
   "outputs": [],
   "source": []
  }
 ],
 "metadata": {
  "kernelspec": {
   "display_name": "Python 3",
   "language": "python",
   "name": "python3"
  },
  "language_info": {
   "codemirror_mode": {
    "name": "ipython",
    "version": 3
   },
   "file_extension": ".py",
   "mimetype": "text/x-python",
   "name": "python",
   "nbconvert_exporter": "python",
   "pygments_lexer": "ipython3",
   "version": "3.7.3"
  }
 },
 "nbformat": 4,
 "nbformat_minor": 2
}
