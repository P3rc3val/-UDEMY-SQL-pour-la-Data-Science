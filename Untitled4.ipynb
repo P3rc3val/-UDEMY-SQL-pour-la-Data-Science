{
 "cells": [
  {
   "cell_type": "code",
   "execution_count": 4,
   "metadata": {},
   "outputs": [
    {
     "name": "stdout",
     "output_type": "stream",
     "text": [
      "15026972654\n",
      "1.2009745762711865\n",
      "19.32855263157894\n",
      "7.8212719298245625\n"
     ]
    }
   ],
   "source": [
    "import sqlite3\n",
    "\n",
    "connexion = sqlite3.connect('factbook.db')\n",
    "\n",
    "#J'assigne ma requête à une variable\n",
    "average = \"SELECT SUM(population), AVG(population_growth), AVG(birth_rate), AVG(death_rate) FROM facts;\"\n",
    "\n",
    "avg_results = connexion.execute(average).fetchall()\n",
    "\n",
    "# Les 4 variables à assigner\n",
    "pop_sum = avg_results[0][0]\n",
    "pop_growth_avg = avg_results[0][1]\n",
    "birth_rate_avg = avg_results[0][2]\n",
    "death_rate_avg = avg_results[0][3]\n",
    "\n",
    "print(pop_sum)\n",
    "print(pop_growth_avg)\n",
    "print(birth_rate_avg)\n",
    "print(death_rate_avg)\n",
    "\n",
    "connexion.close()"
   ]
  },
  {
   "cell_type": "code",
   "execution_count": 7,
   "metadata": {},
   "outputs": [
    {
     "name": "stdout",
     "output_type": "stream",
     "text": [
      "[(0, 0.0, 6.65, 1.53)]\n",
      "[(7256490011, 4.02, 45.45, 14.89)]\n"
     ]
    }
   ],
   "source": [
    "connexion = sqlite3.connect('factbook.db')\n",
    "\n",
    "#J'assigne mes requêtes à des variables\n",
    "MIN = \"SELECT MIN(population), MIN(population_growth), MIN(birth_rate), MIN(death_rate) FROM facts;\"\n",
    "min_results = connexion.execute(MIN).fetchall()\n",
    "\n",
    "MAX =\"SELECT MAX(population), MAX(population_growth), MAX(birth_rate), MAX(death_rate) FROM facts;\"\n",
    "max_results = connexion.execute(MAX).fetchall()\n",
    "\n",
    "# Les 8 variables à assigner\n",
    "pop_min = min_results[0][0]\n",
    "pop_max = max_results[0][0]\n",
    "\n",
    "pop_growth_min = min_results[0][1]\n",
    "pop_growth_max = max_results[0][1]\n",
    "\n",
    "birth_rate_min = min_results[0][2]\n",
    "birth_rate_max = max_results[0][2]\n",
    "\n",
    "death_rate_min = min_results[0][3]\n",
    "death_rate_max = max_results[0][3]\n",
    "\n",
    "print(min_results)\n",
    "print(max_results)\n",
    "\n",
    "connexion.close()"
   ]
  },
  {
   "cell_type": "code",
   "execution_count": 10,
   "metadata": {},
   "outputs": [
    {
     "name": "stdout",
     "output_type": "stream",
     "text": [
      "[(48, 1367485388, 0.0, 4.02, 6.65, 45.45, 1.53, 14.89)]\n"
     ]
    }
   ],
   "source": [
    "connexion = sqlite3.connect('factbook.db')\n",
    "\n",
    "#J'assigne mes requêtes à des variables\n",
    "filtreData = \"SELECT MIN(population), MAX(population), MIN(population_growth), MAX(population_growth), MIN(birth_rate), MAX(birth_rate), MIN(death_rate), MAX(death_rate) FROM facts WHERE population < 2000000000 AND population > 0;\"\n",
    "filtre_results = connexion.execute(filtreData).fetchall()\n",
    "\n",
    "# Les 8 variables à assigner\n",
    "pop_min = filtre_results[0][0]\n",
    "pop_max = filtre_results[0][1]\n",
    "pop_growth_min = filtre_results[0][2]\n",
    "pop_growth_max = filtre_results[0][3]\n",
    "birth_rate_min = filtre_results[0][4]\n",
    "birth_rate_max = filtre_results[0][5]\n",
    "death_rate_min = filtre_results[0][6]\n",
    "death_rate_max = filtre_results[0][7]\n",
    "\n",
    "print(filtre_results)\n",
    "\n",
    "connexion.close()"
   ]
  },
  {
   "cell_type": "raw",
   "metadata": {},
   "source": [
    "Rappel: projected_population = population + (population * (population_growth/100))"
   ]
  },
  {
   "cell_type": "code",
   "execution_count": 16,
   "metadata": {},
   "outputs": [
    {
     "name": "stdout",
     "output_type": "stream",
     "text": [
      "[('Afghanistan', 33319835.0), ('Albania', 3038366.0), ('Algeria', 40269742.0), ('Andorra', 85683.0), ('Angola', 20170938.0), ('Antigua and Barbuda', 93582.0), ('Argentina', 43835803.0), ('Armenia', 3060967.0), ('Australia', 22994450.0), ('Austria', 8713211.0)]\n"
     ]
    }
   ],
   "source": [
    "connexion = sqlite3.connect('factbook.db')\n",
    "\n",
    "#J'assigne mes requêtes à des variables\n",
    "queryPopulation = \"SELECT name, ROUND(population + population *(population_growth/100), 0) FROM facts WHERE population < 7000000000 AND population > 0  AND population IS NOT NULL AND population_growth IS NOT NULL ;\"\n",
    "results = connexion.execute(queryPopulation).fetchall()\n",
    "\n",
    "# Les 8 variables à assigner\n",
    "nameCountry = results[0][0]\n",
    "populationY1 = results[0][1]\n",
    "\n",
    "print(results [0:10])\n",
    "\n",
    "connexion.close()"
   ]
  },
  {
   "cell_type": "code",
   "execution_count": 20,
   "metadata": {},
   "outputs": [
    {
     "name": "stdout",
     "output_type": "stream",
     "text": [
      "Estimation population, Minimum: 48.0\n",
      "Estimation population, MAximum: 1373639072.0\n",
      "Estimation population, Moyenne: 33405469.2893617\n"
     ]
    }
   ],
   "source": [
    "connexion = sqlite3.connect('factbook.db')\n",
    "\n",
    "#J'assigne mes requêtes à des variables\n",
    "queryPopulation2 = \"SELECT MIN(ROUND(population + population *(population_growth/100), 0)), MAX(ROUND(population + population *(population_growth/100), 0)), AVG(ROUND(population + population *(population_growth/100), 0)) FROM facts WHERE population < 7000000000 AND population > 0 AND population IS NOT NULL AND population_growth IS NOT NULL ;\"\n",
    "proj_results = connexion.execute(queryPopulation2).fetchall()\n",
    "\n",
    "# Les 3 variables à assigner\n",
    "pop_proj_min = proj_results[0][0]\n",
    "pop_proj_max = proj_results[0][1]\n",
    "pop_proj_avg = proj_results[0][2]\n",
    "\n",
    "print(\"Estimation population,\",\"Minimum:\",pop_proj_min)\n",
    "print(\"Estimation population,\",\"MAximum:\",pop_proj_max)\n",
    "print(\"Estimation population,\",\"Moyenne:\",pop_proj_avg)\n"
   ]
  },
  {
   "cell_type": "code",
   "execution_count": null,
   "metadata": {},
   "outputs": [],
   "source": []
  }
 ],
 "metadata": {
  "kernelspec": {
   "display_name": "Python 3",
   "language": "python",
   "name": "python3"
  },
  "language_info": {
   "codemirror_mode": {
    "name": "ipython",
    "version": 3
   },
   "file_extension": ".py",
   "mimetype": "text/x-python",
   "name": "python",
   "nbconvert_exporter": "python",
   "pygments_lexer": "ipython3",
   "version": "3.7.3"
  }
 },
 "nbformat": 4,
 "nbformat_minor": 2
}
